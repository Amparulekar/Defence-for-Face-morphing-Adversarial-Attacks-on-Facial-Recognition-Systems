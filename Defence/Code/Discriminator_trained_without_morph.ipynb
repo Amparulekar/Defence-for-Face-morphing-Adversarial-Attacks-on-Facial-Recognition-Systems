{
  "nbformat": 4,
  "nbformat_minor": 0,
  "metadata": {
    "colab": {
      "provenance": []
    },
    "kernelspec": {
      "name": "python3",
      "display_name": "Python 3"
    },
    "language_info": {
      "name": "python"
    }
  },
  "cells": [
    {
      "cell_type": "code",
      "source": [
        "import os, sys, numpy as np\n",
        "import argparse\n",
        "from time import time\n",
        "from tqdm import tqdm\n",
        "import tensorflow \n",
        "import torch\n",
        "import torch.nn as nn\n",
        "from torch.autograd import Variable\n",
        "import torch.utils.data as data\n",
        "import torchvision.transforms as transforms\n",
        "from PIL import Image\n",
        "import keras\n",
        "from keras.layers import TimeDistributed as td\n",
        "from keras.layers import Conv2D, Flatten, Dense, ZeroPadding2D, Activation\n",
        "from keras.layers import MaxPooling2D, Dropout, BatchNormalization, Reshape\n",
        "import os\n",
        "import cv2\n",
        "from google.colab.patches import cv2_imshow\n",
        "from PIL import Image, ImageOps\n",
        "import random"
      ],
      "metadata": {
        "id": "-0nZSLZSpZR3"
      },
      "execution_count": 9,
      "outputs": []
    },
    {
      "cell_type": "code",
      "source": [
        "from google.colab import drive\n",
        "drive.mount('/content/drive')"
      ],
      "metadata": {
        "colab": {
          "base_uri": "https://localhost:8080/"
        },
        "id": "JWfJLdL7pa6r",
        "outputId": "824b79e6-0af8-4094-926f-92a723004324"
      },
      "execution_count": 10,
      "outputs": [
        {
          "output_type": "stream",
          "name": "stdout",
          "text": [
            "Drive already mounted at /content/drive; to attempt to forcibly remount, call drive.mount(\"/content/drive\", force_remount=True).\n"
          ]
        }
      ]
    },
    {
      "cell_type": "code",
      "source": [
        "import random"
      ],
      "metadata": {
        "id": "rHgeOX2j2FT4"
      },
      "execution_count": 11,
      "outputs": []
    },
    {
      "cell_type": "code",
      "source": [
        "dirlist=os.listdir('/content/drive/MyDrive/newtest')\n",
        "xim=[]\n",
        "yim=[]\n",
        "random.shuffle(dirlist)\n",
        "for image in dirlist:\n",
        "  small=cv2.imread('/content/drive/MyDrive/newtest/'+image)\n",
        "  print(small.shape)\n",
        "  size=(128,128)\n",
        "  img=cv2.resize(small,size,interpolation=cv2.INTER_CUBIC)\n",
        "  img_normalized = cv2.normalize(img, None, -1.0, 1.0, cv2.NORM_MINMAX, dtype=cv2.CV_32F)\n",
        "  xim.append(img_normalized)\n",
        "for image in dirlist:\n",
        "  if (image[:2]=='14' or image[:2]=='15' ): #or image[:2]=='13' or image[:2]=='16'\n",
        "      yim.append([0,1])\n",
        "  else:\n",
        "      yim.append([1,0])"
      ],
      "metadata": {
        "colab": {
          "base_uri": "https://localhost:8080/"
        },
        "id": "wEY5O1goqOT8",
        "outputId": "c80edd09-13b9-49fe-fcc4-ad2ff7a27c8f"
      },
      "execution_count": 19,
      "outputs": [
        {
          "output_type": "stream",
          "name": "stdout",
          "text": [
            "(117, 117, 3)\n",
            "(128, 128, 3)\n",
            "(119, 119, 3)\n",
            "(112, 112, 3)\n",
            "(116, 116, 3)\n",
            "(125, 125, 3)\n",
            "(103, 103, 3)\n",
            "(106, 106, 3)\n",
            "(124, 124, 3)\n",
            "(111, 111, 3)\n",
            "(112, 112, 3)\n",
            "(109, 109, 3)\n",
            "(124, 124, 3)\n",
            "(111, 111, 3)\n",
            "(121, 121, 3)\n",
            "(109, 109, 3)\n",
            "(108, 108, 3)\n",
            "(115, 115, 3)\n",
            "(124, 124, 3)\n",
            "(106, 106, 3)\n"
          ]
        }
      ]
    },
    {
      "cell_type": "code",
      "source": [
        "print(yim)"
      ],
      "metadata": {
        "colab": {
          "base_uri": "https://localhost:8080/"
        },
        "id": "gyTPHam9BT1P",
        "outputId": "8bfd79f6-0e84-4f82-9701-74c90d984aa8"
      },
      "execution_count": 20,
      "outputs": [
        {
          "output_type": "stream",
          "name": "stdout",
          "text": [
            "[[0, 1], [0, 1], [0, 1], [1, 0], [1, 0], [0, 1], [1, 0], [0, 1], [0, 1], [0, 1], [1, 0], [1, 0], [1, 0], [1, 0], [1, 0], [1, 0], [0, 1], [0, 1], [0, 1], [1, 0]]\n"
          ]
        }
      ]
    },
    {
      "cell_type": "code",
      "source": [
        "dirlist=os.listdir('/content/drive/MyDrive/test')\n",
        "ximt=[]\n",
        "yimt=[]\n",
        "random.shuffle(dirlist)\n",
        "for image in dirlist:\n",
        "  small=cv2.imread('/content/drive/MyDrive/test/'+image)\n",
        "  print(small.shape)\n",
        "  size=(128,128)\n",
        "  img=cv2.resize(small,size,interpolation=cv2.INTER_CUBIC)\n",
        "  img_normalized = cv2.normalize(img, None, -1.0, 1.0, cv2.NORM_MINMAX, dtype=cv2.CV_32F)\n",
        "  ximt.append(img_normalized)\n",
        "yimt=[[0,1],[0,1],[0,1],[0,1]]"
      ],
      "metadata": {
        "colab": {
          "base_uri": "https://localhost:8080/"
        },
        "id": "wmwbsDyR8PcL",
        "outputId": "cd46438d-379d-4a35-83cb-4ba0e147ac00"
      },
      "execution_count": 14,
      "outputs": [
        {
          "output_type": "stream",
          "name": "stdout",
          "text": [
            "(128, 128, 3)\n",
            "(128, 128, 3)\n",
            "(128, 128, 3)\n",
            "(128, 128, 3)\n"
          ]
        }
      ]
    },
    {
      "cell_type": "code",
      "execution_count": 15,
      "metadata": {
        "id": "Bu9BnKPTkp-4"
      },
      "outputs": [],
      "source": [
        "import torch.nn as nn\n",
        "from torchsummary import summary\n",
        "import torch.nn.functional as F\n",
        "\n",
        "class Discriminator(nn.Module):\n",
        "    def __init__(self):\n",
        "        super(Discriminator, self).__init__()\n",
        "        self.conv1 = nn.Conv2d(3, 32, kernel_size=3, stride=1, padding=1) #128 x 128 x 32\n",
        "        self.mp1=nn.MaxPool2d(2, stride=2)\n",
        "        self.conv2 = nn.Conv2d(32, 64, kernel_size=3, stride=1, padding=1) #64 x 64 x 64\n",
        "        self.mp2=nn.MaxPool2d(2, stride=2)\n",
        "        self.conv3 = nn.Conv2d(64, 128, kernel_size=3, stride=1, padding=1) #32 x 32 x 128\n",
        "        self.mp3=nn.MaxPool2d(2, stride=2)\n",
        "        self.conv4 = nn.Conv2d(128, 256, kernel_size=3, stride=1, padding=1) #16 x 16 x 256\n",
        "        self.mp4=nn.MaxPool2d(2, stride=2)\n",
        "        self.conv5 = nn.Conv2d(256, 512, kernel_size=3, stride=1, padding=1) #8 x 8 x 512\n",
        "        self.mp5=nn.MaxPool2d(2, stride=2)\n",
        "        self.flat = nn.Flatten()\n",
        "        self.fc1 = nn.Linear(512*4*4, 128)\n",
        "        self.fc2 = nn.Linear(128, 32)\n",
        "        self.fc3 = nn.Linear(32, 2)\n",
        "        self.softmax = nn.Softmax()\n",
        "\n",
        "    def forward(self, x):\n",
        "        x = F.relu(self.conv1(x))\n",
        "        x = self.mp1(x)\n",
        "        x = F.relu(self.conv2(x))\n",
        "        x = self.mp2(x)\n",
        "        x = F.relu(self.conv3(x))\n",
        "        x = self.mp3(x)\n",
        "        x = F.relu(self.conv4(x))\n",
        "        x = self.mp4(x)\n",
        "        x = F.relu(self.conv5(x))\n",
        "        x = self.mp5(x)\n",
        "        x = self.flat(x)\n",
        "        x = F.relu(self.fc1(x))\n",
        "        x = F.relu(self.fc2(x))\n",
        "        x = F.relu(self.fc3(x))\n",
        "        x = self.softmax(x)\n",
        "\n",
        "        return x\n",
        "\n",
        "disc= Discriminator()"
      ]
    },
    {
      "cell_type": "code",
      "source": [
        "import torch.optim as optim\n",
        "\n",
        "criterion = nn.BCELoss()\n",
        "optimizer = optim.Adam(disc.parameters(), lr=0.001)"
      ],
      "metadata": {
        "id": "qelmHbebYzp0"
      },
      "execution_count": 16,
      "outputs": []
    },
    {
      "cell_type": "code",
      "source": [
        "tensorx = torch.from_numpy(np.array(xim)).permute(0,3,1,2)\n",
        "tensory = torch.from_numpy(np.array(yim))\n",
        "\n",
        "for epoch in range(50):  # loop over the dataset multiple times\n",
        "    for i in range (20):\n",
        "        # get the inputs; data is a list of [inputs, labels]\n",
        "        inputs, labels = tensorx[i:i+1].float(),tensory[i:i+1].float()\n",
        "        #print(inputs.shape)\n",
        "        #print(labels.shape)\n",
        "        # zero the parameter gradients\n",
        "        optimizer.zero_grad()\n",
        "\n",
        "        # forward + backward + optimize\n",
        "        outputs = disc(inputs)\n",
        "        print (outputs,labels)\n",
        "        loss = criterion(outputs, labels)\n",
        "        loss.backward()\n",
        "        optimizer.step()\n",
        "\n",
        "        # print statistics\n",
        "    print(loss.item())\n",
        "\n",
        "print('Finished Training')"
      ],
      "metadata": {
        "id": "45qfHg-rwIJm"
      },
      "execution_count": null,
      "outputs": []
    },
    {
      "cell_type": "code",
      "source": [
        "tensorxt = torch.from_numpy(np.array(ximt)).permute(0,3,1,2)\n",
        "tensoryt = torch.from_numpy(np.array(yimt))\n",
        "\n",
        "for i in range (4):\n",
        "    inputs, labels = tensorxt[i:i+1].float(),tensoryt[i:i+1].float()\n",
        "    #print(inputs.shape)\n",
        "    #print(labels.shape)\n",
        "    # zero the parameter gradients\n",
        "    optimizer.zero_grad()\n",
        "\n",
        "    # forward + backward + optimize\n",
        "    outputs = disc(inputs)\n",
        "    loss = criterion(outputs, labels)\n",
        "    loss.backward()\n",
        "    optimizer.step()\n",
        "\n",
        "    # print statistics\n",
        "print(loss.item())\n",
        "\n",
        "print('Finished Testing')"
      ],
      "metadata": {
        "colab": {
          "base_uri": "https://localhost:8080/"
        },
        "id": "iWlkQ1Nz7NRi",
        "outputId": "f8a4c66c-b40e-470f-de05-ac86426959aa"
      },
      "execution_count": 22,
      "outputs": [
        {
          "output_type": "stream",
          "name": "stderr",
          "text": [
            "<ipython-input-15-3040ffe721aa>:39: UserWarning: Implicit dimension choice for softmax has been deprecated. Change the call to include dim=X as an argument.\n",
            "  x = self.softmax(x)\n"
          ]
        },
        {
          "output_type": "stream",
          "name": "stdout",
          "text": [
            "0.6931471824645996\n",
            "Finished Testing\n"
          ]
        }
      ]
    }
  ]
}