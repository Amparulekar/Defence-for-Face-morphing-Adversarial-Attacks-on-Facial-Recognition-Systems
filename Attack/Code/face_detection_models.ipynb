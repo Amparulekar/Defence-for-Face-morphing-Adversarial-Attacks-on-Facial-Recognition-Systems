{
  "nbformat": 4,
  "nbformat_minor": 0,
  "metadata": {
    "colab": {
      "provenance": []
    },
    "kernelspec": {
      "name": "python3",
      "display_name": "Python 3"
    },
    "language_info": {
      "name": "python"
    }
  },
  "cells": [
    {
      "cell_type": "code",
      "execution_count": 18,
      "metadata": {
        "colab": {
          "base_uri": "https://localhost:8080/"
        },
        "id": "t-0t7bKnx7PL",
        "outputId": "6e102949-623b-43f5-fc27-8f54078bad0f"
      },
      "outputs": [
        {
          "output_type": "stream",
          "name": "stdout",
          "text": [
            "Mounted at /content/drive\n"
          ]
        }
      ],
      "source": [
        "from google.colab import drive\n",
        "drive.mount('/content/drive', force_remount = True)"
      ]
    },
    {
      "cell_type": "code",
      "source": [
        "import numpy as np\n",
        "\n",
        "pred02 = np.load('/content/drive/MyDrive/saved/lin_sph/pred02.npy')\n",
        "pred10 = np.load('/content/drive/MyDrive/saved/lin_sph/pred10.npy')\n",
        "pred12 = np.load('/content/drive/MyDrive/saved/lin_sph/pred12.npy')"
      ],
      "metadata": {
        "id": "AHQFGj8n0U4V"
      },
      "execution_count": 3,
      "outputs": []
    },
    {
      "cell_type": "code",
      "source": [
        "!mkdir /content/lin_sph\n",
        "!mkdir /content/lin_sph/02\n",
        "!mkdir /content/lin_sph/10\n",
        "!mkdir /content/lin_sph/12"
      ],
      "metadata": {
        "id": "qW1_yLcQ2wZq"
      },
      "execution_count": 4,
      "outputs": []
    },
    {
      "cell_type": "code",
      "source": [
        "import matplotlib.pyplot as plt\n",
        "from PIL import Image\n",
        "\n",
        "for i in range(10):\n",
        "  img = pred02[i, :, :, :]\n",
        "  np_img = np.zeros((128, 128, 3))\n",
        "  np_img[:, :, 0] = img[0, :, :]\n",
        "  np_img[:, :, 1] = img[1, :, :]\n",
        "  np_img[:, :, 2] = img[2, :, :]\n",
        "  img = Image.fromarray((np_img * 255).astype(np.uint8))\n",
        "  img.save('/content/lin_sph/02/' + str(i) + '.png')\n",
        "\n",
        "for i in range(10):\n",
        "  img = pred10[i, :, :, :]\n",
        "  np_img = np.zeros((128, 128, 3))\n",
        "  np_img[:, :, 0] = img[0, :, :]\n",
        "  np_img[:, :, 1] = img[1, :, :]\n",
        "  np_img[:, :, 2] = img[2, :, :]\n",
        "  img = Image.fromarray((np_img * 255).astype(np.uint8))\n",
        "  img.save('/content/lin_sph/10/' + str(i) + '.png')\n",
        "\n",
        "for i in range(10):\n",
        "  img = pred12[i, :, :, :]\n",
        "  np_img = np.zeros((128, 128, 3))\n",
        "  np_img[:, :, 0] = img[0, :, :]\n",
        "  np_img[:, :, 1] = img[1, :, :]\n",
        "  np_img[:, :, 2] = img[2, :, :]\n",
        "  img = Image.fromarray((np_img * 255).astype(np.uint8))\n",
        "  img.save('/content/lin_sph/12/' + str(i) + '.png')"
      ],
      "metadata": {
        "id": "nc-IiJWK0hXr"
      },
      "execution_count": 6,
      "outputs": []
    },
    {
      "cell_type": "code",
      "source": [
        "dst = Image.new('RGB', (1280, 128))\n",
        "for i in range(10):\n",
        "  img = Image.open('/content/lin_sph/02/' + str(i) + '.png')\n",
        "  dst.paste(img, (i*128, 0))\n",
        "\n",
        "dst.save('/content/02_all_combined.png')"
      ],
      "metadata": {
        "id": "h1hBKGwP3oHF"
      },
      "execution_count": 7,
      "outputs": []
    },
    {
      "cell_type": "code",
      "source": [
        "dst = Image.new('RGB', (1280, 128))\n",
        "for i in range(10):\n",
        "  img = Image.open('/content/lin_sph/10/' + str(i) + '.png')\n",
        "  dst.paste(img, (i*128, 0))\n",
        "\n",
        "dst.save('/content/10_all_combined.png')"
      ],
      "metadata": {
        "id": "mkCoPwnU4ZlM"
      },
      "execution_count": 8,
      "outputs": []
    },
    {
      "cell_type": "code",
      "source": [
        "dst = Image.new('RGB', (1280, 128))\n",
        "for i in range(10):\n",
        "  img = Image.open('/content/lin_sph/12/' + str(i) + '.png')\n",
        "  dst.paste(img, (i*128, 0))\n",
        "\n",
        "dst.save('/content/12_all_combined.png')"
      ],
      "metadata": {
        "id": "eeToWJ1U4eM_"
      },
      "execution_count": 9,
      "outputs": []
    },
    {
      "cell_type": "code",
      "source": [
        "!pip install deepface"
      ],
      "metadata": {
        "id": "c-tEXV4w4iD8"
      },
      "execution_count": null,
      "outputs": []
    },
    {
      "cell_type": "code",
      "source": [
        "from deepface import DeepFace\n",
        "\n",
        "result = DeepFace.verify(img1_path = '/content/lin_sph/02/0.png', img2_path = '/content/lin_sph/02/1.png',\n",
        "                         distance_metric = 'euclidean_l2')"
      ],
      "metadata": {
        "id": "Y1ESZuej42Qe"
      },
      "execution_count": 13,
      "outputs": []
    },
    {
      "cell_type": "code",
      "source": [
        "print(result)"
      ],
      "metadata": {
        "colab": {
          "base_uri": "https://localhost:8080/"
        },
        "id": "6987h9sl5ISG",
        "outputId": "cbbf6c03-e79e-4867-94d1-a0c57b38b020"
      },
      "execution_count": 14,
      "outputs": [
        {
          "output_type": "stream",
          "name": "stdout",
          "text": [
            "{'verified': True, 'distance': 0.2996991091258179, 'threshold': 0.86, 'model': 'VGG-Face', 'detector_backend': 'opencv', 'similarity_metric': 'euclidean_l2', 'facial_areas': {'img1': {'x': 21, 'y': 26, 'w': 87, 'h': 87}, 'img2': {'x': 21, 'y': 27, 'w': 87, 'h': 87}}, 'time': 1.35}\n"
          ]
        }
      ]
    },
    {
      "cell_type": "code",
      "source": [
        "import pandas as pd"
      ],
      "metadata": {
        "id": "1hrDqfnRGf-1"
      },
      "execution_count": 25,
      "outputs": []
    },
    {
      "cell_type": "code",
      "source": [
        "metrics = ['cosine', 'euclidean', 'euclidean_l2']\n",
        "models = [\"VGG-Face\", \"Facenet\", \"Facenet512\", \"OpenFace\",]\n",
        "d = {'errors':metrics, models[0]:[0,0,0], models[1]:[0,0,0], models[2]:[0,0,0], models[3]:[0,0,0]}\n",
        "\n",
        "for jj, j in enumerate(metrics):\n",
        "  for k in models:\n",
        "    print(j, k)\n",
        "    count = 0\n",
        "    for i in range(1, 9):\n",
        "      base = '/content/lin_sph/10/9.png'\n",
        "      compare = '/content/lin_sph/10/' + str(9-i) + '.png'\n",
        "      result = DeepFace.verify(img1_path = base, img2_path = compare, distance_metric = j, model_name = k)\n",
        "      if result['verified']:\n",
        "        count += 1\n",
        "      else:\n",
        "        break\n",
        "    d[k][jj] = count\n",
        "\n",
        "df = pd.DataFrame(d)"
      ],
      "metadata": {
        "colab": {
          "base_uri": "https://localhost:8080/"
        },
        "id": "k8l_OsyW5WiI",
        "outputId": "c3984b99-87d6-44c2-b118-f426be35dfba"
      },
      "execution_count": 29,
      "outputs": [
        {
          "output_type": "stream",
          "name": "stdout",
          "text": [
            "cosine VGG-Face\n",
            "cosine Facenet\n",
            "cosine Facenet512\n",
            "cosine OpenFace\n",
            "euclidean VGG-Face\n",
            "euclidean Facenet\n",
            "euclidean Facenet512\n",
            "euclidean OpenFace\n",
            "euclidean_l2 VGG-Face\n",
            "euclidean_l2 Facenet\n",
            "euclidean_l2 Facenet512\n",
            "euclidean_l2 OpenFace\n"
          ]
        }
      ]
    },
    {
      "cell_type": "code",
      "source": [
        "df"
      ],
      "metadata": {
        "colab": {
          "base_uri": "https://localhost:8080/",
          "height": 143
        },
        "id": "i5asHlUYGZkV",
        "outputId": "3483f7f6-a26e-4878-e513-6f8a4565bcdf"
      },
      "execution_count": 30,
      "outputs": [
        {
          "output_type": "execute_result",
          "data": {
            "text/plain": [
              "         errors  VGG-Face  Facenet  Facenet512  OpenFace\n",
              "0        cosine         4        3           3         3\n",
              "1     euclidean         5        4           8         4\n",
              "2  euclidean_l2         4        3           5         4"
            ],
            "text/html": [
              "\n",
              "  <div id=\"df-79b35f7f-8a1b-47e2-ab12-a60acfe9104a\">\n",
              "    <div class=\"colab-df-container\">\n",
              "      <div>\n",
              "<style scoped>\n",
              "    .dataframe tbody tr th:only-of-type {\n",
              "        vertical-align: middle;\n",
              "    }\n",
              "\n",
              "    .dataframe tbody tr th {\n",
              "        vertical-align: top;\n",
              "    }\n",
              "\n",
              "    .dataframe thead th {\n",
              "        text-align: right;\n",
              "    }\n",
              "</style>\n",
              "<table border=\"1\" class=\"dataframe\">\n",
              "  <thead>\n",
              "    <tr style=\"text-align: right;\">\n",
              "      <th></th>\n",
              "      <th>errors</th>\n",
              "      <th>VGG-Face</th>\n",
              "      <th>Facenet</th>\n",
              "      <th>Facenet512</th>\n",
              "      <th>OpenFace</th>\n",
              "    </tr>\n",
              "  </thead>\n",
              "  <tbody>\n",
              "    <tr>\n",
              "      <th>0</th>\n",
              "      <td>cosine</td>\n",
              "      <td>4</td>\n",
              "      <td>3</td>\n",
              "      <td>3</td>\n",
              "      <td>3</td>\n",
              "    </tr>\n",
              "    <tr>\n",
              "      <th>1</th>\n",
              "      <td>euclidean</td>\n",
              "      <td>5</td>\n",
              "      <td>4</td>\n",
              "      <td>8</td>\n",
              "      <td>4</td>\n",
              "    </tr>\n",
              "    <tr>\n",
              "      <th>2</th>\n",
              "      <td>euclidean_l2</td>\n",
              "      <td>4</td>\n",
              "      <td>3</td>\n",
              "      <td>5</td>\n",
              "      <td>4</td>\n",
              "    </tr>\n",
              "  </tbody>\n",
              "</table>\n",
              "</div>\n",
              "      <button class=\"colab-df-convert\" onclick=\"convertToInteractive('df-79b35f7f-8a1b-47e2-ab12-a60acfe9104a')\"\n",
              "              title=\"Convert this dataframe to an interactive table.\"\n",
              "              style=\"display:none;\">\n",
              "        \n",
              "  <svg xmlns=\"http://www.w3.org/2000/svg\" height=\"24px\"viewBox=\"0 0 24 24\"\n",
              "       width=\"24px\">\n",
              "    <path d=\"M0 0h24v24H0V0z\" fill=\"none\"/>\n",
              "    <path d=\"M18.56 5.44l.94 2.06.94-2.06 2.06-.94-2.06-.94-.94-2.06-.94 2.06-2.06.94zm-11 1L8.5 8.5l.94-2.06 2.06-.94-2.06-.94L8.5 2.5l-.94 2.06-2.06.94zm10 10l.94 2.06.94-2.06 2.06-.94-2.06-.94-.94-2.06-.94 2.06-2.06.94z\"/><path d=\"M17.41 7.96l-1.37-1.37c-.4-.4-.92-.59-1.43-.59-.52 0-1.04.2-1.43.59L10.3 9.45l-7.72 7.72c-.78.78-.78 2.05 0 2.83L4 21.41c.39.39.9.59 1.41.59.51 0 1.02-.2 1.41-.59l7.78-7.78 2.81-2.81c.8-.78.8-2.07 0-2.86zM5.41 20L4 18.59l7.72-7.72 1.47 1.35L5.41 20z\"/>\n",
              "  </svg>\n",
              "      </button>\n",
              "      \n",
              "  <style>\n",
              "    .colab-df-container {\n",
              "      display:flex;\n",
              "      flex-wrap:wrap;\n",
              "      gap: 12px;\n",
              "    }\n",
              "\n",
              "    .colab-df-convert {\n",
              "      background-color: #E8F0FE;\n",
              "      border: none;\n",
              "      border-radius: 50%;\n",
              "      cursor: pointer;\n",
              "      display: none;\n",
              "      fill: #1967D2;\n",
              "      height: 32px;\n",
              "      padding: 0 0 0 0;\n",
              "      width: 32px;\n",
              "    }\n",
              "\n",
              "    .colab-df-convert:hover {\n",
              "      background-color: #E2EBFA;\n",
              "      box-shadow: 0px 1px 2px rgba(60, 64, 67, 0.3), 0px 1px 3px 1px rgba(60, 64, 67, 0.15);\n",
              "      fill: #174EA6;\n",
              "    }\n",
              "\n",
              "    [theme=dark] .colab-df-convert {\n",
              "      background-color: #3B4455;\n",
              "      fill: #D2E3FC;\n",
              "    }\n",
              "\n",
              "    [theme=dark] .colab-df-convert:hover {\n",
              "      background-color: #434B5C;\n",
              "      box-shadow: 0px 1px 3px 1px rgba(0, 0, 0, 0.15);\n",
              "      filter: drop-shadow(0px 1px 2px rgba(0, 0, 0, 0.3));\n",
              "      fill: #FFFFFF;\n",
              "    }\n",
              "  </style>\n",
              "\n",
              "      <script>\n",
              "        const buttonEl =\n",
              "          document.querySelector('#df-79b35f7f-8a1b-47e2-ab12-a60acfe9104a button.colab-df-convert');\n",
              "        buttonEl.style.display =\n",
              "          google.colab.kernel.accessAllowed ? 'block' : 'none';\n",
              "\n",
              "        async function convertToInteractive(key) {\n",
              "          const element = document.querySelector('#df-79b35f7f-8a1b-47e2-ab12-a60acfe9104a');\n",
              "          const dataTable =\n",
              "            await google.colab.kernel.invokeFunction('convertToInteractive',\n",
              "                                                     [key], {});\n",
              "          if (!dataTable) return;\n",
              "\n",
              "          const docLinkHtml = 'Like what you see? Visit the ' +\n",
              "            '<a target=\"_blank\" href=https://colab.research.google.com/notebooks/data_table.ipynb>data table notebook</a>'\n",
              "            + ' to learn more about interactive tables.';\n",
              "          element.innerHTML = '';\n",
              "          dataTable['output_type'] = 'display_data';\n",
              "          await google.colab.output.renderOutput(dataTable, element);\n",
              "          const docLink = document.createElement('div');\n",
              "          docLink.innerHTML = docLinkHtml;\n",
              "          element.appendChild(docLink);\n",
              "        }\n",
              "      </script>\n",
              "    </div>\n",
              "  </div>\n",
              "  "
            ]
          },
          "metadata": {},
          "execution_count": 30
        }
      ]
    },
    {
      "cell_type": "markdown",
      "source": [
        "# sph_lin"
      ],
      "metadata": {
        "id": "T3bpJRs1NWLO"
      }
    },
    {
      "cell_type": "code",
      "source": [
        "!mkdir /content/sph_lin\n",
        "!mkdir /content/sph_lin/01"
      ],
      "metadata": {
        "colab": {
          "base_uri": "https://localhost:8080/"
        },
        "id": "I9y_o1WYLwIW",
        "outputId": "a549a7e4-6cab-4428-a754-6f52f1254f67"
      },
      "execution_count": 33,
      "outputs": [
        {
          "output_type": "stream",
          "name": "stdout",
          "text": [
            "mkdir: cannot create directory ‘/content/sph_lin’: File exists\n"
          ]
        }
      ]
    },
    {
      "cell_type": "code",
      "source": [
        "pred01 = np.load('/content/pred01.npy')\n",
        "for i in range(10):\n",
        "  img = pred12[i, :, :, :]\n",
        "  np_img = np.zeros((128, 128, 3))\n",
        "  np_img[:, :, 0] = img[0, :, :]\n",
        "  np_img[:, :, 1] = img[1, :, :]\n",
        "  np_img[:, :, 2] = img[2, :, :]\n",
        "  img = Image.fromarray((np_img * 255).astype(np.uint8))\n",
        "  img.save('/content/sph_lin/01/' + str(i) + '.png')"
      ],
      "metadata": {
        "id": "n1YW1LigLyX1"
      },
      "execution_count": 34,
      "outputs": []
    },
    {
      "cell_type": "code",
      "source": [
        "dst = Image.new('RGB', (1280, 128))\n",
        "for i in range(10):\n",
        "  img = Image.open('/content/sph_lin/01/' + str(i) + '.png')\n",
        "  dst.paste(img, (i*128, 0))\n",
        "\n",
        "dst.save('/content/01_all_combined.png')"
      ],
      "metadata": {
        "id": "y2rSvvgfL_5c"
      },
      "execution_count": 35,
      "outputs": []
    },
    {
      "cell_type": "code",
      "source": [
        "metrics = ['cosine', 'euclidean', 'euclidean_l2']\n",
        "models = [\"VGG-Face\", \"Facenet\", \"Facenet512\", \"OpenFace\",]\n",
        "d = {'errors':metrics, models[0]:[0,0,0], models[1]:[0,0,0], models[2]:[0,0,0], models[3]:[0,0,0]}\n",
        "\n",
        "for jj, j in enumerate(metrics):\n",
        "  for k in models:\n",
        "    print(j, k)\n",
        "    count = 0\n",
        "    for i in range(1, 9):\n",
        "      base = '/content/sph_lin/01/0.png'\n",
        "      compare = '/content/sph_lin/01/' + str(i) + '.png'\n",
        "      result = DeepFace.verify(img1_path = base, img2_path = compare, distance_metric = j, model_name = k)\n",
        "      if result['verified']:\n",
        "        count += 1\n",
        "      else:\n",
        "        break\n",
        "    d[k][jj] = count\n",
        "\n",
        "df = pd.DataFrame(d)"
      ],
      "metadata": {
        "colab": {
          "base_uri": "https://localhost:8080/"
        },
        "id": "isUCx5Y6MI1x",
        "outputId": "e3b48df3-342d-44f6-87e2-e86d85cc98c3"
      },
      "execution_count": 36,
      "outputs": [
        {
          "output_type": "stream",
          "name": "stdout",
          "text": [
            "cosine VGG-Face\n",
            "cosine Facenet\n",
            "cosine Facenet512\n",
            "cosine OpenFace\n",
            "euclidean VGG-Face\n",
            "euclidean Facenet\n",
            "euclidean Facenet512\n",
            "euclidean OpenFace\n",
            "euclidean_l2 VGG-Face\n",
            "euclidean_l2 Facenet\n",
            "euclidean_l2 Facenet512\n",
            "euclidean_l2 OpenFace\n"
          ]
        }
      ]
    },
    {
      "cell_type": "code",
      "source": [
        "df"
      ],
      "metadata": {
        "colab": {
          "base_uri": "https://localhost:8080/",
          "height": 143
        },
        "id": "3GuGV0k9MnPE",
        "outputId": "17152e69-864e-4287-97b9-2476c083be26"
      },
      "execution_count": 37,
      "outputs": [
        {
          "output_type": "execute_result",
          "data": {
            "text/plain": [
              "         errors  VGG-Face  Facenet  Facenet512  OpenFace\n",
              "0        cosine         8        4           5         2\n",
              "1     euclidean         8        6           8         3\n",
              "2  euclidean_l2         6        4           8         3"
            ],
            "text/html": [
              "\n",
              "  <div id=\"df-a619f238-55b9-4588-9f86-8aef0058cd57\">\n",
              "    <div class=\"colab-df-container\">\n",
              "      <div>\n",
              "<style scoped>\n",
              "    .dataframe tbody tr th:only-of-type {\n",
              "        vertical-align: middle;\n",
              "    }\n",
              "\n",
              "    .dataframe tbody tr th {\n",
              "        vertical-align: top;\n",
              "    }\n",
              "\n",
              "    .dataframe thead th {\n",
              "        text-align: right;\n",
              "    }\n",
              "</style>\n",
              "<table border=\"1\" class=\"dataframe\">\n",
              "  <thead>\n",
              "    <tr style=\"text-align: right;\">\n",
              "      <th></th>\n",
              "      <th>errors</th>\n",
              "      <th>VGG-Face</th>\n",
              "      <th>Facenet</th>\n",
              "      <th>Facenet512</th>\n",
              "      <th>OpenFace</th>\n",
              "    </tr>\n",
              "  </thead>\n",
              "  <tbody>\n",
              "    <tr>\n",
              "      <th>0</th>\n",
              "      <td>cosine</td>\n",
              "      <td>8</td>\n",
              "      <td>4</td>\n",
              "      <td>5</td>\n",
              "      <td>2</td>\n",
              "    </tr>\n",
              "    <tr>\n",
              "      <th>1</th>\n",
              "      <td>euclidean</td>\n",
              "      <td>8</td>\n",
              "      <td>6</td>\n",
              "      <td>8</td>\n",
              "      <td>3</td>\n",
              "    </tr>\n",
              "    <tr>\n",
              "      <th>2</th>\n",
              "      <td>euclidean_l2</td>\n",
              "      <td>6</td>\n",
              "      <td>4</td>\n",
              "      <td>8</td>\n",
              "      <td>3</td>\n",
              "    </tr>\n",
              "  </tbody>\n",
              "</table>\n",
              "</div>\n",
              "      <button class=\"colab-df-convert\" onclick=\"convertToInteractive('df-a619f238-55b9-4588-9f86-8aef0058cd57')\"\n",
              "              title=\"Convert this dataframe to an interactive table.\"\n",
              "              style=\"display:none;\">\n",
              "        \n",
              "  <svg xmlns=\"http://www.w3.org/2000/svg\" height=\"24px\"viewBox=\"0 0 24 24\"\n",
              "       width=\"24px\">\n",
              "    <path d=\"M0 0h24v24H0V0z\" fill=\"none\"/>\n",
              "    <path d=\"M18.56 5.44l.94 2.06.94-2.06 2.06-.94-2.06-.94-.94-2.06-.94 2.06-2.06.94zm-11 1L8.5 8.5l.94-2.06 2.06-.94-2.06-.94L8.5 2.5l-.94 2.06-2.06.94zm10 10l.94 2.06.94-2.06 2.06-.94-2.06-.94-.94-2.06-.94 2.06-2.06.94z\"/><path d=\"M17.41 7.96l-1.37-1.37c-.4-.4-.92-.59-1.43-.59-.52 0-1.04.2-1.43.59L10.3 9.45l-7.72 7.72c-.78.78-.78 2.05 0 2.83L4 21.41c.39.39.9.59 1.41.59.51 0 1.02-.2 1.41-.59l7.78-7.78 2.81-2.81c.8-.78.8-2.07 0-2.86zM5.41 20L4 18.59l7.72-7.72 1.47 1.35L5.41 20z\"/>\n",
              "  </svg>\n",
              "      </button>\n",
              "      \n",
              "  <style>\n",
              "    .colab-df-container {\n",
              "      display:flex;\n",
              "      flex-wrap:wrap;\n",
              "      gap: 12px;\n",
              "    }\n",
              "\n",
              "    .colab-df-convert {\n",
              "      background-color: #E8F0FE;\n",
              "      border: none;\n",
              "      border-radius: 50%;\n",
              "      cursor: pointer;\n",
              "      display: none;\n",
              "      fill: #1967D2;\n",
              "      height: 32px;\n",
              "      padding: 0 0 0 0;\n",
              "      width: 32px;\n",
              "    }\n",
              "\n",
              "    .colab-df-convert:hover {\n",
              "      background-color: #E2EBFA;\n",
              "      box-shadow: 0px 1px 2px rgba(60, 64, 67, 0.3), 0px 1px 3px 1px rgba(60, 64, 67, 0.15);\n",
              "      fill: #174EA6;\n",
              "    }\n",
              "\n",
              "    [theme=dark] .colab-df-convert {\n",
              "      background-color: #3B4455;\n",
              "      fill: #D2E3FC;\n",
              "    }\n",
              "\n",
              "    [theme=dark] .colab-df-convert:hover {\n",
              "      background-color: #434B5C;\n",
              "      box-shadow: 0px 1px 3px 1px rgba(0, 0, 0, 0.15);\n",
              "      filter: drop-shadow(0px 1px 2px rgba(0, 0, 0, 0.3));\n",
              "      fill: #FFFFFF;\n",
              "    }\n",
              "  </style>\n",
              "\n",
              "      <script>\n",
              "        const buttonEl =\n",
              "          document.querySelector('#df-a619f238-55b9-4588-9f86-8aef0058cd57 button.colab-df-convert');\n",
              "        buttonEl.style.display =\n",
              "          google.colab.kernel.accessAllowed ? 'block' : 'none';\n",
              "\n",
              "        async function convertToInteractive(key) {\n",
              "          const element = document.querySelector('#df-a619f238-55b9-4588-9f86-8aef0058cd57');\n",
              "          const dataTable =\n",
              "            await google.colab.kernel.invokeFunction('convertToInteractive',\n",
              "                                                     [key], {});\n",
              "          if (!dataTable) return;\n",
              "\n",
              "          const docLinkHtml = 'Like what you see? Visit the ' +\n",
              "            '<a target=\"_blank\" href=https://colab.research.google.com/notebooks/data_table.ipynb>data table notebook</a>'\n",
              "            + ' to learn more about interactive tables.';\n",
              "          element.innerHTML = '';\n",
              "          dataTable['output_type'] = 'display_data';\n",
              "          await google.colab.output.renderOutput(dataTable, element);\n",
              "          const docLink = document.createElement('div');\n",
              "          docLink.innerHTML = docLinkHtml;\n",
              "          element.appendChild(docLink);\n",
              "        }\n",
              "      </script>\n",
              "    </div>\n",
              "  </div>\n",
              "  "
            ]
          },
          "metadata": {},
          "execution_count": 37
        }
      ]
    },
    {
      "cell_type": "code",
      "source": [],
      "metadata": {
        "id": "Q8eUHXNJMni6"
      },
      "execution_count": null,
      "outputs": []
    }
  ]
}